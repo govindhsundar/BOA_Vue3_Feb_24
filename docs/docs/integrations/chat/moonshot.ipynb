{
  "cells": [
    {
      "cell_type": "raw",
      "metadata": {
        "id": "xd94kqSL0Vhk"
      },
      "source": [
        "---\n",
        "sidebar_label: Moonshot\n",
        "---"
      ]
    },
    {
      "cell_type": "markdown",
      "metadata": {
        "collapsed": false,
        "id": "WRMEWHnO0Vhm"
      },
      "source": [
        "# MoonshotChat\n",
        "\n",
        "[Moonshot](https://platform.moonshot.cn/) is a Chinese startup that provides LLM service for companies and individuals.\n",
        "\n",
        "This example goes over how to use LangChain to interact with Moonshot Inference for Chat."
      ]
    },
    {
      "cell_type": "code",
      "execution_count": 2,
      "metadata": {
        "id": "AMNs4hsU0Vhm"
      },
      "outputs": [],
      "source": [
        "import os\n",
        "\n",
        "# Generate your api key from: https://platform.moonshot.cn/console/api-keys\n",
        "os.environ[\"MOONSHOT_API_KEY\"] = \"sk-AoQgGCNQtf79XOuZs2w4xva0dAEBpHIYvovhTwPe63feKnZr\""
      ]
    },
    {
      "cell_type": "code",
      "execution_count": 3,
      "metadata": {
        "colab": {
          "base_uri": "https://localhost:8080/",
          "height": 339
        },
        "id": "S26Mgb1s0Vhn",
        "outputId": "eb6243f5-3838-4b8b-a86c-efca1dbf82d8"
      },
      "outputs": [
        {
          "output_type": "error",
          "ename": "ModuleNotFoundError",
          "evalue": "No module named 'langchain_community'",
          "traceback": [
            "\u001b[0;31m---------------------------------------------------------------------------\u001b[0m",
            "\u001b[0;31mModuleNotFoundError\u001b[0m                       Traceback (most recent call last)",
            "\u001b[0;32m/tmp/ipython-input-1276790367.py\u001b[0m in \u001b[0;36m<cell line: 0>\u001b[0;34m()\u001b[0m\n\u001b[0;32m----> 1\u001b[0;31m \u001b[0;32mfrom\u001b[0m \u001b[0mlangchain_community\u001b[0m\u001b[0;34m.\u001b[0m\u001b[0mchat_models\u001b[0m\u001b[0;34m.\u001b[0m\u001b[0mmoonshot\u001b[0m \u001b[0;32mimport\u001b[0m \u001b[0mMoonshotChat\u001b[0m\u001b[0;34m\u001b[0m\u001b[0;34m\u001b[0m\u001b[0m\n\u001b[0m\u001b[1;32m      2\u001b[0m \u001b[0;32mfrom\u001b[0m \u001b[0mlangchain_core\u001b[0m\u001b[0;34m.\u001b[0m\u001b[0mmessages\u001b[0m \u001b[0;32mimport\u001b[0m \u001b[0mHumanMessage\u001b[0m\u001b[0;34m,\u001b[0m \u001b[0mSystemMessage\u001b[0m\u001b[0;34m\u001b[0m\u001b[0;34m\u001b[0m\u001b[0m\n",
            "\u001b[0;31mModuleNotFoundError\u001b[0m: No module named 'langchain_community'",
            "",
            "\u001b[0;31m---------------------------------------------------------------------------\u001b[0;32m\nNOTE: If your import is failing due to a missing package, you can\nmanually install dependencies using either !pip or !apt.\n\nTo view examples of installing some common dependencies, click the\n\"Open Examples\" button below.\n\u001b[0;31m---------------------------------------------------------------------------\u001b[0m\n"
          ],
          "errorDetails": {
            "actions": [
              {
                "action": "open_url",
                "actionText": "Open Examples",
                "url": "/notebooks/snippets/importing_libraries.ipynb"
              }
            ]
          }
        }
      ],
      "source": [
        "!pip install langchain_community\n",
        "!pip install langchain_core\n",
        "\n",
        "from langchain_community.chat_models.moonshot import MoonshotChat\n",
        "from langchain_core.messages import HumanMessage, SystemMessage"
      ]
    },
    {
      "cell_type": "code",
      "execution_count": null,
      "metadata": {
        "id": "A6HJ8LXm0Vhn"
      },
      "outputs": [],
      "source": [
        "chat = MoonshotChat()\n",
        "# or use a specific model\n",
        "# Available models: https://platform.moonshot.cn/docs\n",
        "# chat = MoonshotChat(model=\"moonshot-v1-128k\")"
      ]
    },
    {
      "cell_type": "code",
      "execution_count": null,
      "metadata": {
        "id": "OrCiYHJt0Vho"
      },
      "outputs": [],
      "source": [
        "messages = [\n",
        "    SystemMessage(\n",
        "        content=\"You are a helpful assistant that translates English to French.\"\n",
        "    ),\n",
        "    HumanMessage(\n",
        "        content=\"Translate this sentence from English to French. I love programming.\"\n",
        "    ),\n",
        "]\n",
        "\n",
        "chat.invoke(messages)"
      ]
    }
  ],
  "metadata": {
    "language_info": {
      "name": "python"
    },
    "colab": {
      "provenance": []
    },
    "kernelspec": {
      "name": "python3",
      "display_name": "Python 3"
    }
  },
  "nbformat": 4,
  "nbformat_minor": 0
}