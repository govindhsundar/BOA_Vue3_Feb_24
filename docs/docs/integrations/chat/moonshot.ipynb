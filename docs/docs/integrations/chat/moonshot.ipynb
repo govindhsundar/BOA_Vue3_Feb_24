{
  "cells": [
    {
      "cell_type": "markdown",
      "metadata": {
        "id": "view-in-github",
        "colab_type": "text"
      },
      "source": [
        "<a href=\"https://colab.research.google.com/github/govindhsundar/BOA_Vue3_Feb_24/blob/main/docs/docs/integrations/chat/moonshot.ipynb\" target=\"_parent\"><img src=\"https://colab.research.google.com/assets/colab-badge.svg\" alt=\"Open In Colab\"/></a>"
      ]
    },
    {
      "cell_type": "raw",
      "metadata": {
        "id": "xd94kqSL0Vhk"
      },
      "source": [
        "---\n",
        "sidebar_label: Moonshot\n",
        "---"
      ]
    },
    {
      "cell_type": "markdown",
      "metadata": {
        "collapsed": false,
        "id": "WRMEWHnO0Vhm"
      },
      "source": [
        "# MoonshotChat\n",
        "\n",
        "[Moonshot](https://platform.moonshot.cn/) is a Chinese startup that provides LLM service for companies and individuals.\n",
        "\n",
        "This example goes over how to use LangChain to interact with Moonshot Inference for Chat."
      ]
    },
    {
      "cell_type": "code",
      "execution_count": null,
      "metadata": {
        "id": "AMNs4hsU0Vhm"
      },
      "outputs": [],
      "source": [
        "import os\n",
        "\n",
        "# Generate your api key from: https://platform.moonshot.cn/console/api-keys\n",
        "os.environ[\"MOONSHOT_API_KEY\"] = \"sk-AoQgGCNQtf79XOuZs2w4xva0dAEBpHIYvovhTwPe63feKnZr\""
      ]
    },
    {
      "cell_type": "code",
      "execution_count": null,
      "metadata": {
        "id": "S26Mgb1s0Vhn"
      },
      "outputs": [],
      "source": [
        "from langchain_community.chat_models.moonshot import MoonshotChat\n",
        "from langchain_core.messages import HumanMessage, SystemMessage"
      ]
    },
    {
      "cell_type": "code",
      "execution_count": null,
      "metadata": {
        "id": "A6HJ8LXm0Vhn"
      },
      "outputs": [],
      "source": [
        "chat = MoonshotChat()\n",
        "# or use a specific model\n",
        "# Available models: https://platform.moonshot.cn/docs\n",
        "# chat = MoonshotChat(model=\"moonshot-v1-128k\")"
      ]
    },
    {
      "cell_type": "code",
      "execution_count": null,
      "metadata": {
        "id": "OrCiYHJt0Vho"
      },
      "outputs": [],
      "source": [
        "messages = [\n",
        "    SystemMessage(\n",
        "        content=\"You are a helpful assistant that translates English to French.\"\n",
        "    ),\n",
        "    HumanMessage(\n",
        "        content=\"Translate this sentence from English to French. I love programming.\"\n",
        "    ),\n",
        "]\n",
        "\n",
        "chat.invoke(messages)"
      ]
    }
  ],
  "metadata": {
    "language_info": {
      "name": "python"
    },
    "colab": {
      "provenance": [],
      "include_colab_link": true
    }
  },
  "nbformat": 4,
  "nbformat_minor": 0
}